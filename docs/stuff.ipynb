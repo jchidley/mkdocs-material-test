{
 "nbformat": 4,
 "nbformat_minor": 2,
 "metadata": {
  "language_info": {
   "name": "python",
   "codemirror_mode": {
    "name": "ipython",
    "version": 3
   },
   "version": "3.7.6-final"
  },
  "orig_nbformat": 2,
  "file_extension": ".py",
  "mimetype": "text/x-python",
  "name": "python",
  "npconvert_exporter": "python",
  "pygments_lexer": "ipython3",
  "version": 3,
  "kernelspec": {
   "name": "python37664bitpandascondaf922c6d35d344400a797586cc620082f",
   "display_name": "Python 3.7.6 64-bit ('Pandas': conda)"
  }
 },
 "cells": [
  {
   "cell_type": "markdown",
   "execution_count": null,
   "metadata": {},
   "outputs": [],
   "source": [
    "* pandas strinio sqlite tempfile\n",
    "* Use http://www.ch-werner.de/sqliteodbc/ both 32 and 64 standard installs and then define it as an \n",
    "* ODBC 32-bit connection in adminstrator tools for use in Excel (and other apps)"
   ]
  },
  {
   "cell_type": "code",
   "execution_count": 1,
   "metadata": {},
   "outputs": [],
   "source": [
    "import sqlite3\n",
    "import pandas as pd\n",
    "import io\n",
    "\n",
    "table_name = \"Planning\""
   ]
  },
  {
   "cell_type": "markdown",
   "execution_count": null,
   "metadata": {},
   "outputs": [],
   "source": [
    "Get data from https://kirkmcdonald.github.io/calc.html#items=lab:r:1 and load the data using the handy StringIO\n",
    "https://docs.python.org/3/library/io.html?highlight=stringio#io.StringIO.  Using panda's read_csv function\n",
    "https://stackoverflow.com/questions/41900593/csv-into-sqlite-table-python"
   ]
  },
  {
   "cell_type": "code",
   "execution_count": 2,
   "metadata": {},
   "outputs": [
    {
     "data": {
      "text/html": "<div>\n<style scoped>\n    .dataframe tbody tr th:only-of-type {\n        vertical-align: middle;\n    }\n\n    .dataframe tbody tr th {\n        vertical-align: top;\n    }\n\n    .dataframe thead th {\n        text-align: right;\n    }\n</style>\n<table border=\"1\" class=\"dataframe\">\n  <thead>\n    <tr style=\"text-align: right;\">\n      <th></th>\n      <th>item</th>\n      <th>item rate</th>\n      <th>factory</th>\n      <th>count</th>\n      <th>power</th>\n      <th>Thing</th>\n    </tr>\n  </thead>\n  <tbody>\n    <tr>\n      <th>0</th>\n      <td>logistic-science-pack</td>\n      <td>1.000</td>\n      <td>assembling-machine-1</td>\n      <td>0.2</td>\n      <td>17000.0</td>\n      <td>logistic-science-pack</td>\n    </tr>\n    <tr>\n      <th>1</th>\n      <td>inserter</td>\n      <td>1.000</td>\n      <td>assembling-machine-1</td>\n      <td>0.1</td>\n      <td>3708.4</td>\n      <td>logistic-science-pack</td>\n    </tr>\n    <tr>\n      <th>2</th>\n      <td>electronic-circuit</td>\n      <td>1.000</td>\n      <td>assembling-machine-1</td>\n      <td>0.1</td>\n      <td>3708.4</td>\n      <td>logistic-science-pack</td>\n    </tr>\n    <tr>\n      <th>3</th>\n      <td>copper-cable</td>\n      <td>3.000</td>\n      <td>assembling-machine-1</td>\n      <td>0.1</td>\n      <td>4312.5</td>\n      <td>logistic-science-pack</td>\n    </tr>\n    <tr>\n      <th>4</th>\n      <td>copper-plate</td>\n      <td>1.500</td>\n      <td>stone-furnace</td>\n      <td>0.1</td>\n      <td>7200.0</td>\n      <td>logistic-science-pack</td>\n    </tr>\n    <tr>\n      <th>5</th>\n      <td>copper-ore</td>\n      <td>1.500</td>\n      <td>electric-mining-drill</td>\n      <td>0.1</td>\n      <td>7350.0</td>\n      <td>logistic-science-pack</td>\n    </tr>\n    <tr>\n      <th>6</th>\n      <td>transport-belt</td>\n      <td>1.000</td>\n      <td>assembling-machine-1</td>\n      <td>0.1</td>\n      <td>3104.2</td>\n      <td>logistic-science-pack</td>\n    </tr>\n    <tr>\n      <th>7</th>\n      <td>iron-gear-wheel</td>\n      <td>1.500</td>\n      <td>assembling-machine-1</td>\n      <td>0.1</td>\n      <td>4312.5</td>\n      <td>logistic-science-pack</td>\n    </tr>\n    <tr>\n      <th>8</th>\n      <td>iron-plate</td>\n      <td>5.500</td>\n      <td>stone-furnace</td>\n      <td>0.3</td>\n      <td>26400.0</td>\n      <td>logistic-science-pack</td>\n    </tr>\n    <tr>\n      <th>9</th>\n      <td>iron-ore</td>\n      <td>5.500</td>\n      <td>electric-mining-drill</td>\n      <td>0.2</td>\n      <td>18950.0</td>\n      <td>logistic-science-pack</td>\n    </tr>\n    <tr>\n      <th>10</th>\n      <td>coal</td>\n      <td>0.504</td>\n      <td>electric-mining-drill</td>\n      <td>0.1</td>\n      <td>4461.6</td>\n      <td>logistic-science-pack</td>\n    </tr>\n  </tbody>\n</table>\n</div>",
      "text/plain": "                     item  item rate                factory  count    power  \\\n0   logistic-science-pack      1.000   assembling-machine-1    0.2  17000.0   \n1                inserter      1.000   assembling-machine-1    0.1   3708.4   \n2      electronic-circuit      1.000   assembling-machine-1    0.1   3708.4   \n3            copper-cable      3.000   assembling-machine-1    0.1   4312.5   \n4            copper-plate      1.500          stone-furnace    0.1   7200.0   \n5              copper-ore      1.500  electric-mining-drill    0.1   7350.0   \n6          transport-belt      1.000   assembling-machine-1    0.1   3104.2   \n7         iron-gear-wheel      1.500   assembling-machine-1    0.1   4312.5   \n8              iron-plate      5.500          stone-furnace    0.3  26400.0   \n9                iron-ore      5.500  electric-mining-drill    0.2  18950.0   \n10                   coal      0.504  electric-mining-drill    0.1   4461.6   \n\n                    Thing  \n0   logistic-science-pack  \n1   logistic-science-pack  \n2   logistic-science-pack  \n3   logistic-science-pack  \n4   logistic-science-pack  \n5   logistic-science-pack  \n6   logistic-science-pack  \n7   logistic-science-pack  \n8   logistic-science-pack  \n9   logistic-science-pack  \n10  logistic-science-pack  "
     },
     "execution_count": 2,
     "metadata": {},
     "output_type": "execute_result"
    }
   ],
   "source": [
    "scsv = \"\"\"\n",
    "item,item rate,factory,count,modules,beacon module,beacon count,power\n",
    "logistic-science-pack,1,assembling-machine-1,0.2,,,,17000\n",
    "inserter,1,assembling-machine-1,0.1,,,,3708.4\n",
    "electronic-circuit,1,assembling-machine-1,0.1,,,,3708.4\n",
    "copper-cable,3,assembling-machine-1,0.1,,,,4312.5\n",
    "copper-plate,1.5,stone-furnace,0.1,,,,7200\n",
    "copper-ore,1.5,electric-mining-drill,0.1,//,,,7350\n",
    "transport-belt,1,assembling-machine-1,0.1,,,,3104.2\n",
    "iron-gear-wheel,1.5,assembling-machine-1,0.1,,,,4312.5\n",
    "iron-plate,5.5,stone-furnace,0.3,,,,26400\n",
    "iron-ore,5.5,electric-mining-drill,0.2,//,,,18950\n",
    "coal,0.504,electric-mining-drill,0.1,//,,,4461.6\n",
    "\n",
    "\"\"\"\n",
    "sio = io.StringIO(scsv)\n",
    "\n",
    "df = pd.read_csv(sio)\n",
    "df['Thing'] = df.item[0]\n",
    "df[['item','item rate','factory','count','power','Thing']]"
   ]
  },
  {
   "cell_type": "markdown",
   "execution_count": null,
   "metadata": {},
   "outputs": [],
   "source": [
    "Not forgetting to use pathlib to manage those Windows vs Linux path inconsistencies https://stackoverflow.com/questions/41900593/csv-into-sqlite-table-python"
   ]
  },
  {
   "cell_type": "code",
   "execution_count": 3,
   "metadata": {},
   "outputs": [
    {
     "data": {
      "text/html": "<div>\n<style scoped>\n    .dataframe tbody tr th:only-of-type {\n        vertical-align: middle;\n    }\n\n    .dataframe tbody tr th {\n        vertical-align: top;\n    }\n\n    .dataframe thead th {\n        text-align: right;\n    }\n</style>\n<table border=\"1\" class=\"dataframe\">\n  <thead>\n    <tr style=\"text-align: right;\">\n      <th></th>\n      <th>item</th>\n      <th>item rate</th>\n      <th>factory</th>\n      <th>count</th>\n      <th>power</th>\n      <th>Thing</th>\n    </tr>\n  </thead>\n  <tbody>\n    <tr>\n      <th>0</th>\n      <td>logistic-science-pack</td>\n      <td>1.0</td>\n      <td>assembling-machine-1</td>\n      <td>0.2</td>\n      <td>17000.0</td>\n      <td>logistic-science-pack</td>\n    </tr>\n    <tr>\n      <th>1</th>\n      <td>inserter</td>\n      <td>1.0</td>\n      <td>assembling-machine-1</td>\n      <td>0.1</td>\n      <td>3708.4</td>\n      <td>logistic-science-pack</td>\n    </tr>\n  </tbody>\n</table>\n</div>",
      "text/plain": "                    item  item rate               factory  count    power  \\\n0  logistic-science-pack        1.0  assembling-machine-1    0.2  17000.0   \n1               inserter        1.0  assembling-machine-1    0.1   3708.4   \n\n                   Thing  \n0  logistic-science-pack  \n1  logistic-science-pack  "
     },
     "execution_count": 3,
     "metadata": {},
     "output_type": "execute_result"
    }
   ],
   "source": [
    "from pathlib import Path\n",
    "filename = Path(\"factorio.db\")\n",
    "\n",
    "conn = sqlite3.connect(filename.absolute())\n",
    "pd.io.sql.read_sql(\"SELECT item, \\\"item rate\\\", factory, count, power, Thing FROM Planning\", conn).head(2)"
   ]
  },
  {
   "cell_type": "markdown",
   "execution_count": null,
   "metadata": {},
   "outputs": [],
   "source": [
    "Create the table if it doesn't exist"
   ]
  },
  {
   "cell_type": "code",
   "execution_count": 4,
   "metadata": {},
   "outputs": [
    {
     "data": {
      "text/plain": "<sqlite3.Cursor at 0x23234ae17a0>"
     },
     "execution_count": 4,
     "metadata": {},
     "output_type": "execute_result"
    }
   ],
   "source": [
    "conn.execute('CREATE TABLE IF NOT EXISTS ' + table_name +\n",
    "                '(\"item\"\tTEXT,'\n",
    "                '\"item rate\"\tINTEGER,'\n",
    "                '\"factory\"\tTEXT,'\n",
    "                '\"count\"\tREAL,'\n",
    "                '\"modules\"\tTEXT,'\n",
    "                '\"beacon module\"\tREAL,'\n",
    "                '\"beacon count\"\tREAL,'\n",
    "                '\"power\"\tREAL,'\n",
    "                '\"Thing\"\tTEXT,'\n",
    "                'PRIMARY KEY(item,Thing))')"
   ]
  },
  {
   "cell_type": "markdown",
   "execution_count": null,
   "metadata": {},
   "outputs": [],
   "source": [
    "append the data (the composite primary key ensures that duplicates will not be added).  Close the database connection irrespective of errors to avoid database corruption."
   ]
  },
  {
   "cell_type": "code",
   "execution_count": 5,
   "metadata": {},
   "outputs": [
    {
     "name": "stdout",
     "output_type": "stream",
     "text": "Something went wrong, probably duplicate data\nC:\\Users\\jackc\\.conda\\envs\\Pandas\\lib\\site-packages\\pandas\\core\\generic.py:2712: UserWarning: The spaces in these column names will not be changed. In pandas versions < 0.14, spaces were converted to underscores.\n  method=method,\n"
    }
   ],
   "source": [
    "try:\n",
    "  df.to_sql(name=table_name, con=conn, if_exists='append', index=False)\n",
    "except:\n",
    "  print(\"Something went wrong, probably duplicate data\")\n",
    "finally:\n",
    "  conn.close()"
   ]
  },
  {
   "cell_type": "markdown",
   "execution_count": null,
   "metadata": {},
   "outputs": [],
   "source": [
    "Data can be viewed using https://sqlitebrowser.org/dl/ and used in Excel using this free SQLite ODBC driver http://www.ch-werner.de/sqliteodbc/.\n",
    "\n",
    "Both the 32 and 64 standard installs need to be run befoe defining the ODBC connection using Windows within Control Panel -> Administrative Tools -> ODBC Data Sources (32-bit).  This assumes that 32-bit Excel is being used."
   ]
  },
  {
   "cell_type": "markdown",
   "execution_count": null,
   "metadata": {},
   "outputs": [],
   "source": [
    "Could use SQLAlchemey for connection as it's faster than the standard one.  Manages the connection state too: closes them."
   ]
  },
  {
   "cell_type": "code",
   "execution_count": 10,
   "metadata": {},
   "outputs": [
    {
     "name": "stdout",
     "output_type": "stream",
     "text": "The stuff written matches the stuff input\n"
    }
   ],
   "source": [
    "from sqlalchemy import create_engine\n",
    "cnx = create_engine(\"sqlite:///\" + filename.absolute().as_uri() + \"?mode=ro&uri=true\")\n",
    "input_length = len(df.index)\n",
    "stored_data = pd.io.sql.read_sql(\"SELECT item, \\\"item rate\\\", factory, count, power, Thing FROM Planning\", cnx).tail(input_length)\n",
    "input_data = df[['item','item rate','factory','count','power','Thing']]\n",
    "if input_data.equals(stored_data):\n",
    "    print(\"The stuff written matches the stuff input\")\n",
    "else:\n",
    "    print(\"there's a problem: what is input doesn't match what was written\")"
   ]
  },
  {
   "cell_type": "markdown",
   "execution_count": null,
   "metadata": {},
   "outputs": [],
   "source": [
    "Previously_Using_TemporaryFile\n"
   ]
  },
  {
   "cell_type": "code",
   "execution_count": 13,
   "metadata": {},
   "outputs": [
    {
     "name": "stdout",
     "output_type": "stream",
     "text": "Stuff written to a temporary file: temporary file now in bit bucket.\n"
    }
   ],
   "source": [
    "import tempfile\n",
    "fp = tempfile.TemporaryFile() \n",
    "b = bytes(scsv,'utf-8' )\n",
    "fp.write(b)\n",
    "fp.seek(0)\n",
    "print(\"Stuff written to a temporary file: temporary file now in bit bucket.\")\n",
    "# ... stuff ...\n",
    "fp.close()"
   ]
  },
  {
   "cell_type": "code",
   "execution_count": null,
   "metadata": {},
   "outputs": [],
   "source": []
  }
 ]
}